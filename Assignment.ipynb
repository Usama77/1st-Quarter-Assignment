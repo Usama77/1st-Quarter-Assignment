{
 "cells": [
  {
   "cell_type": "markdown",
   "metadata": {},
   "source": [
    "# 1. Area of Cirle:"
   ]
  },
  {
   "cell_type": "code",
   "execution_count": 4,
   "metadata": {},
   "outputs": [
    {
     "name": "stdout",
     "output_type": "stream",
     "text": [
      "Enter the Radius Of Circle: 0.5\n",
      "Area of cirlce is :  0.7853981635\n"
     ]
    }
   ],
   "source": [
    "a = float(input(\"Enter the Radius Of Circle: \"))\n",
    "print(\"Area of cirlce is : \", 3.141592654 * a * a)\n"
   ]
  },
  {
   "cell_type": "markdown",
   "metadata": {},
   "source": [
    "# 2.Checking Number is Either Negative , Positive or zero:"
   ]
  },
  {
   "cell_type": "code",
   "execution_count": 8,
   "metadata": {},
   "outputs": [
    {
     "name": "stdout",
     "output_type": "stream",
     "text": [
      "Enter the Number: 0\n",
      "Zero Number Entered\n"
     ]
    }
   ],
   "source": [
    "b = int(input(\"Enter the Number: \"))\n",
    "if b < 0:\n",
    "    print(\"Negative Number Entered\")\n",
    "elif b > 0:\n",
    "    print(\"Positive Number Entered\")\n",
    "else:\n",
    "    print(\"Zero Number Entered\")\n",
    "    "
   ]
  },
  {
   "cell_type": "code",
   "execution_count": 9,
   "metadata": {},
   "outputs": [
    {
     "name": "stdout",
     "output_type": "stream",
     "text": [
      "Enter the Number: 3\n",
      "Positive Number Entered\n"
     ]
    }
   ],
   "source": [
    "b = int(input(\"Enter the Number: \"))\n",
    "if b < 0:\n",
    "    print(\"Negative Number Entered\")\n",
    "elif b > 0:\n",
    "    print(\"Positive Number Entered\")\n",
    "else:\n",
    "    print(\"Zero Number Entered\")\n",
    "    "
   ]
  },
  {
   "cell_type": "code",
   "execution_count": 10,
   "metadata": {},
   "outputs": [
    {
     "name": "stdout",
     "output_type": "stream",
     "text": [
      "Enter the Number: -6\n",
      "Negative Number Entered\n"
     ]
    }
   ],
   "source": [
    "b = int(input(\"Enter the Number: \"))\n",
    "if b < 0:\n",
    "    print(\"Negative Number Entered\")\n",
    "elif b > 0:\n",
    "    print(\"Positive Number Entered\")\n",
    "else:\n",
    "    print(\"Zero Number Entered\")\n",
    "    "
   ]
  },
  {
   "cell_type": "markdown",
   "metadata": {},
   "source": [
    "# 3.Divisibility Check of Two Numbers:"
   ]
  },
  {
   "cell_type": "code",
   "execution_count": 16,
   "metadata": {},
   "outputs": [
    {
     "name": "stdout",
     "output_type": "stream",
     "text": [
      "Enter Numerator: 5\n",
      "Enter Denominator: 7\n",
      "Number 5 is not Completely Divisible by 7\n"
     ]
    }
   ],
   "source": [
    "c = int(input(\"Enter Numerator: \"))\n",
    "d = int(input(\"Enter Denominator: \"))\n",
    "if c % d  == 0:\n",
    "    print(\"Number\", c , \"is Completely Divisible by\", d)\n",
    "else:\n",
    "     print(\"Number\", c , \"is not Completely Divisible by\", d)\n",
    " "
   ]
  },
  {
   "cell_type": "code",
   "execution_count": 15,
   "metadata": {},
   "outputs": [
    {
     "name": "stdout",
     "output_type": "stream",
     "text": [
      "Enter Numerator: 8\n",
      "Enter Denominator: 2\n",
      "Number 8 is Completely Divisible by 2\n"
     ]
    }
   ],
   "source": [
    "c = int(input(\"Enter Numerator: \"))\n",
    "d = int(input(\"Enter Denominator: \"))\n",
    "if c % d  == 0:\n",
    "    print(\"Number\", c , \"is Completely Divisible by\", d)\n",
    "else:\n",
    "     print(\"Number\", c , \"is not Completely Divisible by\", d)"
   ]
  },
  {
   "cell_type": "markdown",
   "metadata": {},
   "source": [
    "# 4.Days Calculator:"
   ]
  },
  {
   "cell_type": "code",
   "execution_count": 23,
   "metadata": {},
   "outputs": [
    {
     "name": "stdout",
     "output_type": "stream",
     "text": [
      "Enter a date in (dd/mm/yy) Format: 22/06/2016\n",
      "Enter a date in (dd/mm/yy) Format: 15/03/2019\n",
      "There are  996 days in Between 22/06/2016 and 15/03/2019\n"
     ]
    }
   ],
   "source": [
    "from datetime import datetime\n",
    "date_format = \"%d/%m/%Y\"\n",
    "e = input(\"Enter a date in (dd/mm/yy) Format: \")\n",
    "f = input(\"Enter a date in (dd/mm/yy) Format: \")\n",
    "a = datetime.strptime( e , date_format)\n",
    "b = datetime.strptime( f , date_format)\n",
    "delta = b - a\n",
    "print (\"There are\", delta.days, \"days in Between\", e , \"and\" , f)"
   ]
  },
  {
   "cell_type": "markdown",
   "metadata": {},
   "source": [
    "# 5.Calculate volume of Sphere:"
   ]
  },
  {
   "cell_type": "code",
   "execution_count": 26,
   "metadata": {},
   "outputs": [
    {
     "name": "stdout",
     "output_type": "stream",
     "text": [
      "Enter the Radius of Sphere: 1\n",
      "Volume of the Sphere with radius 1 is: 4.1887902053333335\n"
     ]
    }
   ],
   "source": [
    "a = int(input(\"Enter the Radius of Sphere: \"))\n",
    "print(\"Volume of the Sphere with radius\" , a , \"is:\", 4 / 3 * 3.141592654 * a * a * a)"
   ]
  },
  {
   "cell_type": "markdown",
   "metadata": {},
   "source": [
    "# 6.Copy String N Times:"
   ]
  },
  {
   "cell_type": "code",
   "execution_count": 50,
   "metadata": {},
   "outputs": [
    {
     "name": "stdout",
     "output_type": "stream",
     "text": [
      "Enter string: Hello\n",
      "How many Copies of String you need: 6\n",
      "6 Copies of Hello are : HelloHelloHelloHelloHelloHello\n"
     ]
    }
   ],
   "source": [
    "e = str(input(\"Enter string: \"))\n",
    "b = int(input(\"How many Copies of String you need: \"))\n",
    "if b > 0:\n",
    "    print(b,\"Copies of\", e , \"are :\" , b * e)        \n",
    "else:\n",
    "    print(\"you Entered Invalid number of Copies:\")"
   ]
  },
  {
   "cell_type": "markdown",
   "metadata": {},
   "source": [
    "# 7.Checking If Number is Even or Odd:"
   ]
  },
  {
   "cell_type": "code",
   "execution_count": 52,
   "metadata": {},
   "outputs": [
    {
     "name": "stdout",
     "output_type": "stream",
     "text": [
      "Enter Number: 7\n",
      "7 is Odd\n"
     ]
    }
   ],
   "source": [
    "a = int(input(\"Enter Number: \"))\n",
    "if a % 2 == 0:\n",
    "    print(a, \"is Even\")\n",
    "else:\n",
    "    print(a, \"is Odd\")"
   ]
  },
  {
   "cell_type": "code",
   "execution_count": 53,
   "metadata": {},
   "outputs": [
    {
     "name": "stdout",
     "output_type": "stream",
     "text": [
      "Enter Number: 8\n",
      "8 is Even\n"
     ]
    }
   ],
   "source": [
    "a = int(input(\"Enter Number: \"))\n",
    "if a % 2 == 0:\n",
    "    print(a, \"is Even\")\n",
    "else:\n",
    "    print(a, \"is Odd\")"
   ]
  },
  {
   "cell_type": "markdown",
   "metadata": {},
   "source": [
    "# 8.Vowel Tester:"
   ]
  },
  {
   "cell_type": "code",
   "execution_count": 58,
   "metadata": {},
   "outputs": [
    {
     "name": "stdout",
     "output_type": "stream",
     "text": [
      "Enter Character: A\n",
      "A is Vowel\n"
     ]
    }
   ],
   "source": [
    "f = input(\"Enter Character: \")\n",
    "c = f.lower()\n",
    "if c == \"a\" or c == \"e\" or c == \"i\" or c == \"o\" or c == \"u\" :\n",
    "    print(f, \"is Vowel\")\n",
    "else:\n",
    "    print(f, \"is not Vowel\")"
   ]
  },
  {
   "cell_type": "code",
   "execution_count": 59,
   "metadata": {},
   "outputs": [
    {
     "name": "stdout",
     "output_type": "stream",
     "text": [
      "Enter Character: h\n",
      "h is not Vowel\n"
     ]
    }
   ],
   "source": [
    "f = input(\"Enter Character: \")\n",
    "c = f.lower()\n",
    "if c == \"a\" or c == \"e\" or c == \"i\" or c == \"o\" or c == \"u\" :\n",
    "    print(f, \"is Vowel\")\n",
    "else:\n",
    "    print(f, \"is not Vowel\")"
   ]
  },
  {
   "cell_type": "markdown",
   "metadata": {},
   "source": [
    "# 9.Triangle Area:"
   ]
  },
  {
   "cell_type": "code",
   "execution_count": 62,
   "metadata": {},
   "outputs": [
    {
     "name": "stdout",
     "output_type": "stream",
     "text": [
      "Enter Magnitude of Triangle Base:7\n",
      "Enter Magnitude of Triangle Height:10\n",
      "Area of a Triangle with Height 10 and Base 7  : 35.0\n"
     ]
    }
   ],
   "source": [
    "a = int(input(\"Enter Magnitude of Triangle Base:\"))\n",
    "b = int(input(\"Enter Magnitude of Triangle Height:\"))\n",
    "print(\"Area of a Triangle with Height\",b,\"and Base\",a,\" :\", a * b / 2)"
   ]
  },
  {
   "cell_type": "markdown",
   "metadata": {},
   "source": [
    "# 10.Calculate Interest:\n",
    "    "
   ]
  },
  {
   "cell_type": "code",
   "execution_count": 8,
   "metadata": {},
   "outputs": [
    {
     "name": "stdout",
     "output_type": "stream",
     "text": [
      "Please Enter Principle Amount: 10000\n",
      "Please Enter rate of interest in %: 0.1\n",
      "Enter Number of years for Investment: 5\n",
      "1610.51\n"
     ]
    }
   ],
   "source": [
    "a = int(input(\"Please Enter Principle Amount: \"))\n",
    "b = float(input(\"Please Enter rate of interest in %: \"))\n",
    "c = int(input(\"Enter Number of years for Investment: \"))\n",
    "e = 0\n",
    "f = a * b\n",
    "while e < c:\n",
    "    f += f * b \n",
    "    e += 1\n",
    "print(f)"
   ]
  },
  {
   "cell_type": "markdown",
   "metadata": {},
   "source": [
    "# 11.Euclidean Distance:"
   ]
  },
  {
   "cell_type": "code",
   "execution_count": 16,
   "metadata": {},
   "outputs": [
    {
     "name": "stdout",
     "output_type": "stream",
     "text": [
      "Enter Co-ordinate for X1: 2\n",
      "Enter Co-ordinate for X2: 4\n",
      "Enter Co-ordinate for Y1: 4\n",
      "Enter Co-ordinate for Y2: 4\n",
      "Distance Between Points ( 2 , 4 ) and ( 4 , 4 ) is:  2.0\n"
     ]
    }
   ],
   "source": [
    "import math\n",
    "a = int(input(\"Enter Co-ordinate for X1: \"))\n",
    "b = int(input(\"Enter Co-ordinate for X2: \"))\n",
    "c = int(input(\"Enter Co-ordinate for Y1: \"))\n",
    "d = int(input(\"Enter Co-ordinate for Y2: \"))\n",
    "g = (a - b)*(a - b) + (c - d)*(c - d)\n",
    "e = math.sqrt(g)\n",
    "print(\"Distance Between Points (\", a , \",\" , c , \") and (\" ,b, \",\" , d , \") is: \",e)"
   ]
  },
  {
   "cell_type": "markdown",
   "metadata": {},
   "source": [
    "\n",
    "# 12.Feet to Centimeter Converter:"
   ]
  },
  {
   "cell_type": "code",
   "execution_count": 18,
   "metadata": {},
   "outputs": [
    {
     "name": "stdout",
     "output_type": "stream",
     "text": [
      "Enter Height in Feet: 5\n",
      "There are 152.4 cm in 5.0 ft\n"
     ]
    }
   ],
   "source": [
    "a = float(input(\"Enter Height in Feet: \"))\n",
    "print(\"There are\", a * 30.48,\"cm\",\"in\",a,\"ft\" )"
   ]
  },
  {
   "cell_type": "markdown",
   "metadata": {},
   "source": [
    "# 13.BMI Calculator:"
   ]
  },
  {
   "cell_type": "code",
   "execution_count": 22,
   "metadata": {},
   "outputs": [
    {
     "name": "stdout",
     "output_type": "stream",
     "text": [
      "Enter Your Height in CM: 180\n",
      "Enter Your Weight in KG: 75\n",
      "Your BMI is:  23.148148148148145\n"
     ]
    }
   ],
   "source": [
    "a = float(input(\"Enter Your Height in CM: \"))\n",
    "b = float(input(\"Enter Your Weight in KG: \"))\n",
    "c = a * 0.01\n",
    "print(\"Your BMI is: \", b / (c * c))"
   ]
  },
  {
   "cell_type": "markdown",
   "metadata": {},
   "source": [
    "# 14.Sum of N Positive Integers:"
   ]
  },
  {
   "cell_type": "code",
   "execution_count": 10,
   "metadata": {},
   "outputs": [
    {
     "name": "stdout",
     "output_type": "stream",
     "text": [
      "Enter value of n: 4\n",
      "16\n"
     ]
    }
   ],
   "source": [
    "a = int(input(\"Enter value of n: \"))\n",
    "e = 0\n",
    "b = 0\n",
    "while e < a:\n",
    "    b = b + a\n",
    "    e += 1 \n",
    "    \n",
    "print(b)\n"
   ]
  },
  {
   "cell_type": "markdown",
   "metadata": {},
   "source": [
    "# 15.Digits Sum of Numbers:"
   ]
  },
  {
   "cell_type": "code",
   "execution_count": 43,
   "metadata": {},
   "outputs": [
    {
     "name": "stdout",
     "output_type": "stream",
     "text": [
      "Enter a Number: 4567\n",
      "Sum of 4+5+6+7 is:  22\n"
     ]
    }
   ],
   "source": [
    "a = str(input(\"Enter a Number: \"))\n",
    "b = 0 \n",
    "for x in a:\n",
    "    b += int(x)\n",
    "print(\"Sum of\", '+'.join(map(str,a)) ,\"is: \",b)    "
   ]
  },
  {
   "cell_type": "markdown",
   "metadata": {},
   "source": [
    "# 16.Decimal To Binary Converter"
   ]
  },
  {
   "cell_type": "code",
   "execution_count": 6,
   "metadata": {},
   "outputs": [
    {
     "name": "stdout",
     "output_type": "stream",
     "text": [
      "Enter a Decimal number: 12\n",
      "Binary Reperesentation of 12 is:  1100\n"
     ]
    }
   ],
   "source": [
    "a = int(input(\"Enter a Decimal number: \"))\n",
    "e = bin(a)\n",
    "print(\"Binary Reperesentation of\",a,\"is: \", e[2:])\n"
   ]
  },
  {
   "cell_type": "markdown",
   "metadata": {},
   "source": [
    "# 17.Binary To Decimal Converter:"
   ]
  },
  {
   "cell_type": "code",
   "execution_count": 10,
   "metadata": {},
   "outputs": [
    {
     "name": "stdout",
     "output_type": "stream",
     "text": [
      "Enter a Binary number: 1100\n",
      "Decimal Reperesentation of 1100 is:  12\n"
     ]
    }
   ],
   "source": [
    "a = input(\"Enter a Binary number: \")\n",
    "e = int(a,2)\n",
    "print(\"Decimal Reperesentation of\",a,\"is: \",e)"
   ]
  },
  {
   "cell_type": "markdown",
   "metadata": {},
   "source": [
    "# 18.Vowel and Consonants Counter:"
   ]
  },
  {
   "cell_type": "code",
   "execution_count": 13,
   "metadata": {},
   "outputs": [
    {
     "name": "stdout",
     "output_type": "stream",
     "text": [
      "Enter Text: usamamumtazahmed\n",
      "Vowels:  7\n",
      "Consonants:  9\n"
     ]
    }
   ],
   "source": [
    "a = input(\"Enter Text: \")\n",
    "c = a.lower()\n",
    "d = 0\n",
    "f = 0\n",
    "for x in c:\n",
    "    if x == \"a\" or x == \"e\" or x == \"i\" or x == \"o\" or x == \"u\":\n",
    "        d += 1\n",
    "    else:\n",
    "        f += 1\n",
    "print(\"Vowels: \",d)\n",
    "print(\"Consonants: \",f)\n",
    "        "
   ]
  },
  {
   "cell_type": "markdown",
   "metadata": {},
   "source": [
    "# 19.Palindrome Tester: "
   ]
  },
  {
   "cell_type": "code",
   "execution_count": 18,
   "metadata": {},
   "outputs": [
    {
     "name": "stdout",
     "output_type": "stream",
     "text": [
      "Enter Text: AHA\n",
      "Text AHA is Palindrome. \n"
     ]
    }
   ],
   "source": [
    "a = input(\"Enter Text: \")\n",
    "if a == a[::-1]:\n",
    "    print(\"Text\",a,\"is Palindrome. \")\n",
    "else:\n",
    "    print(\"Text \",a,\"is Not Palindrome. \")\n",
    "    \n"
   ]
  },
  {
   "cell_type": "code",
   "execution_count": 19,
   "metadata": {},
   "outputs": [
    {
     "name": "stdout",
     "output_type": "stream",
     "text": [
      "Enter Text: Usama\n",
      "Text  Usama is Not Palindrome. \n"
     ]
    }
   ],
   "source": [
    "a = input(\"Enter Text: \")\n",
    "if a == a[::-1]:\n",
    "    print(\"Text\",a,\"is Palindrome. \")\n",
    "else:\n",
    "    print(\"Text \",a,\"is Not Palindrome. \")"
   ]
  },
  {
   "cell_type": "markdown",
   "metadata": {},
   "source": [
    "# 20.Count Alphabets,Numbers and Special Characters"
   ]
  },
  {
   "cell_type": "code",
   "execution_count": 33,
   "metadata": {},
   "outputs": [
    {
     "name": "stdout",
     "output_type": "stream",
     "text": [
      "Enter Text: python 12.3 **\n",
      "Alphabets:           6\n",
      "Numbers:             3\n",
      "Special Characters:  3\n",
      "Space:               2\n"
     ]
    }
   ],
   "source": [
    "a = input(\"Enter Text: \")\n",
    "e = 0\n",
    "d = 0\n",
    "c = 0\n",
    "f = 0\n",
    "for x in a:\n",
    "    if int(ord(x)) >= 65 and int(ord(x)) <= 122:\n",
    "        e += 1\n",
    "    elif int(ord(x)) >= 48 and int(ord(x)) <= 57:\n",
    "        d += 1\n",
    "    elif x == \" \":\n",
    "        f += 1\n",
    "    else:\n",
    "        c += 1\n",
    "print(\"Alphabets:          \",e)\n",
    "print(\"Numbers:            \",d)\n",
    "print(\"Special Characters: \",c)\n",
    "print(\"Space:              \",f)\n",
    "    "
   ]
  },
  {
   "cell_type": "markdown",
   "metadata": {},
   "source": [
    "# 21.Pattren 1"
   ]
  },
  {
   "cell_type": "code",
   "execution_count": 35,
   "metadata": {},
   "outputs": [
    {
     "name": "stdout",
     "output_type": "stream",
     "text": [
      "*\n",
      "**\n",
      "***\n",
      "****\n",
      "*****\n",
      "******\n",
      "*******\n",
      "********\n",
      "*********\n",
      "**********\n"
     ]
    }
   ],
   "source": [
    "f = 1\n",
    "i = 0\n",
    "while i <= 9:\n",
    "    d = '*'\n",
    "    print(d * f)\n",
    "    f += 1\n",
    "    i += 1\n",
    "    "
   ]
  },
  {
   "cell_type": "code",
   "execution_count": 1,
   "metadata": {},
   "outputs": [
    {
     "name": "stdout",
     "output_type": "stream",
     "text": [
      "*********\n",
      "********\n",
      "*******\n",
      "******\n",
      "*****\n",
      "****\n",
      "***\n",
      "**\n",
      "*\n",
      "\n"
     ]
    }
   ],
   "source": [
    "f = 9\n",
    "i = 0\n",
    "while i <= 9:\n",
    "    d = '*'\n",
    "    print(d * f)\n",
    "    f -= 1\n",
    "    i += 1\n",
    "    \n",
    "    "
   ]
  },
  {
   "cell_type": "code",
   "execution_count": 6,
   "metadata": {},
   "outputs": [
    {
     "name": "stdout",
     "output_type": "stream",
     "text": [
      "*\n",
      "**\n",
      "***\n",
      "****\n",
      "*****\n",
      "****\n",
      "***\n",
      "**\n",
      "*\n"
     ]
    }
   ],
   "source": [
    "f1 = 1\n",
    "i1 = 0\n",
    "f2 = 4\n",
    "i2 = 0\n",
    "while i1 <= 4:\n",
    "    d = '*'\n",
    "    print(d * f1)\n",
    "    f1 += 1\n",
    "    i1 += 1\n",
    "while i2 < 4:\n",
    "    d = '*'\n",
    "    print(d * f2)\n",
    "    f2 -= 1\n",
    "    i2 += 1"
   ]
  },
  {
   "cell_type": "markdown",
   "metadata": {},
   "source": [
    "# 22.Pattern 2"
   ]
  },
  {
   "cell_type": "code",
   "execution_count": 3,
   "metadata": {},
   "outputs": [
    {
     "name": "stdout",
     "output_type": "stream",
     "text": [
      "1  \n",
      "1 2  \n",
      "1 2 3  \n",
      "1 2 3 4  \n",
      "1 2 3 4 5  \n",
      "1 2 3 4  \n",
      "1 2 3  \n",
      "1 2  \n",
      "1  \n"
     ]
    }
   ],
   "source": [
    "i = 6\n",
    "d = 0\n",
    "for x in range(1,i):\n",
    "    for y in range(1, x + 1):\n",
    "        print (y , end = \" \")\n",
    "    print(\" \")\n",
    "for r in range(4,d,-1):\n",
    "    for c in range(1, r + 1):\n",
    "        print (c , end = \" \")\n",
    "    print(\" \")"
   ]
  },
  {
   "cell_type": "markdown",
   "metadata": {},
   "source": [
    "# 23.Pattern 3"
   ]
  },
  {
   "cell_type": "code",
   "execution_count": 5,
   "metadata": {},
   "outputs": [
    {
     "name": "stdout",
     "output_type": "stream",
     "text": [
      " \n",
      "1  \n",
      "2 2  \n",
      "3 3 3  \n",
      "4 4 4 4  \n",
      "5 5 5 5 5  \n",
      "6 6 6 6 6 6  \n",
      "7 7 7 7 7 7 7  \n",
      "8 8 8 8 8 8 8 8  \n",
      "9 9 9 9 9 9 9 9 9  \n"
     ]
    }
   ],
   "source": [
    "\n",
    "for i in range(10):\n",
    "    for f in range(i):\n",
    "        print(i, end = ' ')\n",
    "    print(\" \")\n",
    " "
   ]
  },
  {
   "cell_type": "code",
   "execution_count": null,
   "metadata": {},
   "outputs": [],
   "source": []
  }
 ],
 "metadata": {
  "kernelspec": {
   "display_name": "Python 3",
   "language": "python",
   "name": "python3"
  },
  "language_info": {
   "codemirror_mode": {
    "name": "ipython",
    "version": 3
   },
   "file_extension": ".py",
   "mimetype": "text/x-python",
   "name": "python",
   "nbconvert_exporter": "python",
   "pygments_lexer": "ipython3",
   "version": "3.7.3"
  }
 },
 "nbformat": 4,
 "nbformat_minor": 2
}
